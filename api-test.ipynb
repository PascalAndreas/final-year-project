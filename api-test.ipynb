{
 "cells": [
  {
   "cell_type": "code",
   "execution_count": 1,
   "id": "e0485889",
   "metadata": {},
   "outputs": [],
   "source": [
    "import requests\n",
    "import json\n",
    "import pandas as pd\n",
    "from datetime import datetime, timedelta\n",
    "\n",
    "# Base URL for historical data\n",
    "BASE_URL = \"https://history.deribit.com/api/v2/public\"\n"
   ]
  },
  {
   "cell_type": "markdown",
   "id": "27388884",
   "metadata": {},
   "source": [
    "->\n",
    "\n",
    "# Testing Deribit Historical Data Endpoints\n",
    "\n",
    "## 1. Get Instruments\n",
    "First, let's fetch the available instruments for a given currency (BTC or ETH)"
   ]
  },
  {
   "cell_type": "code",
   "execution_count": 2,
   "id": "e154b49a",
   "metadata": {},
   "outputs": [
    {
     "name": "stdout",
     "output_type": "stream",
     "text": [
      "Status Code: 200\n",
      "Number of instruments: 8\n",
      "\n",
      "First few instruments:\n",
      "  - BTC-24OCT25: future\n",
      "  - BTC-31OCT25: future\n",
      "  - BTC-28NOV25: future\n",
      "  - BTC-26DEC25: future\n",
      "  - BTC-27MAR26: future\n"
     ]
    }
   ],
   "source": [
    "# Get all BTC instruments\n",
    "url = f\"{BASE_URL}/get_instruments\"\n",
    "params = {\n",
    "    \"currency\": \"BTC\",\n",
    "    \"kind\": \"future\"  # Options: future, option, spot, future_combo, option_combo\n",
    "}\n",
    "\n",
    "response = requests.get(url, params=params)\n",
    "data = response.json()\n",
    "\n",
    "print(f\"Status Code: {response.status_code}\")\n",
    "print(f\"Number of instruments: {len(data['result']) if 'result' in data else 0}\")\n",
    "print(\"\\nFirst few instruments:\")\n",
    "if 'result' in data and len(data['result']) > 0:\n",
    "    for instrument in data['result'][:5]:\n",
    "        print(f\"  - {instrument['instrument_name']}: {instrument.get('kind', 'N/A')}\")\n",
    "else:\n",
    "    print(json.dumps(data, indent=2))\n"
   ]
  },
  {
   "cell_type": "code",
   "execution_count": 3,
   "id": "d9d75f42",
   "metadata": {},
   "outputs": [
    {
     "name": "stdout",
     "output_type": "stream",
     "text": [
      "Status Code: 200\n",
      "{\n",
      "  \"tick_size_steps\": [],\n",
      "  \"tick_size\": 0.5,\n",
      "  \"taker_commission\": 0.0005,\n",
      "  \"settlement_period\": \"perpetual\",\n",
      "  \"settlement_currency\": \"BTC\",\n",
      "  \"rfq\": false,\n",
      "  \"quote_currency\": \"USD\",\n",
      "  \"price_index\": \"btc_usd\",\n",
      "  \"min_trade_amount\": 10.0,\n",
      "  \"max_liquidation_commission\": 0.0075,\n",
      "  \"max_leverage\": 50,\n",
      "  \"maker_commission\": 0.0,\n",
      "  \"kind\": \"future\",\n",
      "  \"is_active\": true,\n",
      "  \"instrument_name\": \"BTC-PERPETUAL\",\n",
      "  \"instrument_id\": 210838,\n",
      "  \"future_type\": \"reversed\",\n",
      "  \"expiration_timestamp\": 32503708800000,\n",
      "  \"creation_timestamp\": 1534242287000,\n",
      "  \"counter_currency\": \"USD\",\n",
      "  \"contract_size\": 10.0,\n",
      "  \"block_trade_tick_size\": 0.01,\n",
      "  \"block_trade_min_trade_amount\": 100000,\n",
      "  \"block_trade_commission\": 0.00025,\n",
      "  \"base_currency\": \"BTC\"\n",
      "}\n"
     ]
    }
   ],
   "source": [
    "# Get details of a specific instrument\n",
    "url = f\"{BASE_URL}/get_instrument\"\n",
    "params = {\n",
    "    \"instrument_name\": \"BTC-PERPETUAL\"\n",
    "}\n",
    "\n",
    "response = requests.get(url, params=params)\n",
    "data = response.json()\n",
    "\n",
    "print(f\"Status Code: {response.status_code}\")\n",
    "if 'result' in data:\n",
    "    print(json.dumps(data['result'], indent=2))\n",
    "else:\n",
    "    print(json.dumps(data, indent=2))\n"
   ]
  },
  {
   "cell_type": "markdown",
   "id": "2903794f",
   "metadata": {},
   "source": [
    "## 2. Get Historical Trades by Currency\n",
    "Fetch historical trades for a given currency\n"
   ]
  },
  {
   "cell_type": "code",
   "execution_count": 4,
   "id": "ff34b32c",
   "metadata": {},
   "outputs": [
    {
     "name": "stdout",
     "output_type": "stream",
     "text": [
      "Status Code: 200\n",
      "Number of trades retrieved: 10\n",
      "\n",
      "First few trades:\n",
      "  2025-10-20 10:19:29.856000 - BTC-28NOV25: 100.0 @ 111505.0\n",
      "  2025-10-20 10:19:29.160000 - BTC-25SEP26: 16380.0 @ 118125.0\n",
      "  2025-10-20 10:19:29.113000 - BTC-PERPETUAL: 2480.0 @ 110810.5\n"
     ]
    }
   ],
   "source": [
    "# Get last trades by currency\n",
    "url = f\"{BASE_URL}/get_last_trades_by_currency\"\n",
    "params = {\n",
    "    \"currency\": \"BTC\",\n",
    "    \"count\": 10  # Number of trades to retrieve\n",
    "}\n",
    "\n",
    "response = requests.get(url, params=params)\n",
    "data = response.json()\n",
    "\n",
    "print(f\"Status Code: {response.status_code}\")\n",
    "if 'result' in data and 'trades' in data['result']:\n",
    "    trades = data['result']['trades']\n",
    "    print(f\"Number of trades retrieved: {len(trades)}\")\n",
    "    print(\"\\nFirst few trades:\")\n",
    "    for trade in trades[:3]:\n",
    "        timestamp = datetime.fromtimestamp(trade['timestamp'] / 1000)\n",
    "        print(f\"  {timestamp} - {trade['instrument_name']}: {trade['amount']} @ {trade['price']}\")\n",
    "else:\n",
    "    print(json.dumps(data, indent=2))\n"
   ]
  },
  {
   "cell_type": "markdown",
   "id": "327dd8f6",
   "metadata": {},
   "source": [
    "## 3. Get Historical Trades by Time Range\n",
    "Fetch trades for a specific time period\n"
   ]
  },
  {
   "cell_type": "code",
   "execution_count": 5,
   "id": "8d569f85",
   "metadata": {},
   "outputs": [
    {
     "name": "stdout",
     "output_type": "stream",
     "text": [
      "Status Code: 200\n",
      "Number of trades retrieved: 100\n",
      "Time range: 2025-10-19 10:20:03.683000 to 2025-10-20 10:20:03.683000\n",
      "\n",
      "Trade summary:\n",
      "                 datetime       instrument_name        price   amount  \\\n",
      "0 2025-10-20 09:20:02.145         BTC-PERPETUAL  110852.5000     10.0   \n",
      "1 2025-10-20 09:20:02.128         BTC-PERPETUAL  110850.0000     20.0   \n",
      "2 2025-10-20 09:20:02.125         BTC-PERPETUAL  110846.0000    240.0   \n",
      "3 2025-10-20 09:20:01.397         BTC-PERPETUAL  110842.5000    170.0   \n",
      "4 2025-10-20 09:20:01.397         BTC-PERPETUAL  110842.5000     30.0   \n",
      "5 2025-10-20 09:20:01.397         BTC-PERPETUAL  110842.5000     30.0   \n",
      "6 2025-10-20 09:20:00.567  BTC-31OCT25-145000-C       0.0007      1.0   \n",
      "7 2025-10-20 09:19:59.809  BTC-21OCT25-109000-P       0.0031      0.9   \n",
      "8 2025-10-20 09:19:59.447         BTC-PERPETUAL  110835.0000  21760.0   \n",
      "9 2025-10-20 09:19:59.447         BTC-PERPETUAL  110835.0000   3720.0   \n",
      "\n",
      "  direction  \n",
      "0       buy  \n",
      "1       buy  \n",
      "2       buy  \n",
      "3       buy  \n",
      "4       buy  \n",
      "5       buy  \n",
      "6      sell  \n",
      "7      sell  \n",
      "8       buy  \n",
      "9       buy  \n"
     ]
    }
   ],
   "source": [
    "# Get trades for a specific time range\n",
    "# Timestamps should be in milliseconds\n",
    "end_time = int(datetime.now().timestamp() * 1000)\n",
    "start_time = int((datetime.now() - timedelta(days=1)).timestamp() * 1000)\n",
    "\n",
    "url = f\"{BASE_URL}/get_last_trades_by_currency_and_time\"\n",
    "params = {\n",
    "    \"currency\": \"BTC\",\n",
    "    \"start_timestamp\": start_time,\n",
    "    \"end_timestamp\": end_time,\n",
    "    \"count\": 100\n",
    "}\n",
    "\n",
    "response = requests.get(url, params=params)\n",
    "data = response.json()\n",
    "\n",
    "print(f\"Status Code: {response.status_code}\")\n",
    "if 'result' in data and 'trades' in data['result']:\n",
    "    trades = data['result']['trades']\n",
    "    print(f\"Number of trades retrieved: {len(trades)}\")\n",
    "    print(f\"Time range: {datetime.fromtimestamp(start_time/1000)} to {datetime.fromtimestamp(end_time/1000)}\")\n",
    "    \n",
    "    if len(trades) > 0:\n",
    "        df = pd.DataFrame(trades)\n",
    "        df['datetime'] = pd.to_datetime(df['timestamp'], unit='ms')\n",
    "        print(\"\\nTrade summary:\")\n",
    "        print(df[['datetime', 'instrument_name', 'price', 'amount', 'direction']].head(10))\n",
    "else:\n",
    "    print(json.dumps(data, indent=2))\n"
   ]
  },
  {
   "cell_type": "markdown",
   "id": "87ed1d87",
   "metadata": {},
   "source": [
    "## 4. Get Historical Trades by Specific Instrument\n",
    "Fetch trades for a specific instrument like BTC-PERPETUAL"
   ]
  },
  {
   "cell_type": "code",
   "execution_count": 6,
   "id": "9d412a1a",
   "metadata": {},
   "outputs": [
    {
     "name": "stdout",
     "output_type": "stream",
     "text": [
      "Status Code: 200\n",
      "Number of trades retrieved: 50\n",
      "\n",
      "BTC-PERPETUAL trades:\n",
      "                 datetime     price   amount direction\n",
      "0 2025-10-20 09:20:22.519  110885.0    200.0       buy\n",
      "1 2025-10-20 09:20:22.519  110885.0  30930.0       buy\n",
      "2 2025-10-20 09:20:22.519  110885.0   3790.0       buy\n",
      "3 2025-10-20 09:20:13.580  110891.0     20.0      sell\n",
      "4 2025-10-20 09:20:13.571  110891.0     60.0      sell\n",
      "5 2025-10-20 09:20:13.569  110891.0     60.0      sell\n",
      "6 2025-10-20 09:20:08.864  110888.0  24290.0       buy\n",
      "7 2025-10-20 09:20:08.856  110888.0  14230.0       buy\n",
      "8 2025-10-20 09:20:08.856  110888.0   9900.0       buy\n",
      "9 2025-10-20 09:20:08.855  110888.0  29180.0       buy\n",
      "\n",
      "Price range: $110820.00 - $110891.00\n",
      "Total volume: 468910.00 BTC\n"
     ]
    }
   ],
   "source": [
    "# Get trades for a specific instrument\n",
    "url = f\"{BASE_URL}/get_last_trades_by_instrument\"\n",
    "params = {\n",
    "    \"instrument_name\": \"BTC-PERPETUAL\",\n",
    "    \"count\": 50\n",
    "}\n",
    "\n",
    "response = requests.get(url, params=params)\n",
    "data = response.json()\n",
    "\n",
    "print(f\"Status Code: {response.status_code}\")\n",
    "if 'result' in data and 'trades' in data['result']:\n",
    "    trades = data['result']['trades']\n",
    "    print(f\"Number of trades retrieved: {len(trades)}\")\n",
    "    \n",
    "    if len(trades) > 0:\n",
    "        df = pd.DataFrame(trades)\n",
    "        df['datetime'] = pd.to_datetime(df['timestamp'], unit='ms')\n",
    "        print(\"\\nBTC-PERPETUAL trades:\")\n",
    "        print(df[['datetime', 'price', 'amount', 'direction']].head(10))\n",
    "        print(f\"\\nPrice range: ${df['price'].min():.2f} - ${df['price'].max():.2f}\")\n",
    "        print(f\"Total volume: {df['amount'].sum():.2f} BTC\")\n",
    "else:\n",
    "    print(json.dumps(data, indent=2))\n"
   ]
  },
  {
   "cell_type": "markdown",
   "id": "79908c8e",
   "metadata": {},
   "source": [
    "## 5. Get Historical Data from 2016 (Deribit Launch)\n",
    "Test accessing really old data to verify complete historical access\n"
   ]
  },
  {
   "cell_type": "code",
   "execution_count": 45,
   "id": "e254e03b",
   "metadata": {},
   "outputs": [
    {
     "name": "stdout",
     "output_type": "stream",
     "text": [
      "Status Code: 200\n",
      "Querying data from: 2018-01-01 00:00:00 to 2025-10-20 00:00:00\n",
      "Number of trades retrieved: 10000\n",
      "\n",
      "Historical trades from beginning of perpetual launch:\n",
      "                   datetime     price    amount direction\n",
      "0   2025-10-16 23:36:30.390  108172.5    7810.0       buy\n",
      "50  2025-10-16 23:46:18.778  108160.0   32400.0       buy\n",
      "100 2025-10-16 23:49:58.092  108085.0    1680.0       buy\n",
      "150 2025-10-16 23:56:48.900  108152.5     180.0       buy\n",
      "200 2025-10-17 00:00:15.937  108205.0    9740.0      sell\n",
      "250 2025-10-17 00:01:58.518  108142.5  250000.0      sell\n",
      "300 2025-10-17 00:03:03.954  108114.0  314180.0      sell\n",
      "350 2025-10-17 00:03:14.685  108125.0     100.0      sell\n",
      "400 2025-10-17 00:04:24.808  108045.0     400.0       buy\n",
      "450 2025-10-17 00:07:49.125  108085.0     120.0       buy\n"
     ]
    }
   ],
   "source": [
    "# Get trades from 2016 (Deribit's launch)\n",
    "# Let's try getting data from early 2017\n",
    "start_time = int(datetime(2018, 1, 1).timestamp() * 1000)\n",
    "end_time = int(datetime(2025, 10, 20).timestamp() * 1000)\n",
    "\n",
    "url = f\"{BASE_URL}/get_last_trades_by_instrument_and_time\"\n",
    "params = {\n",
    "    \"instrument_name\": \"BTC-17OCT25\",\n",
    "    \"start_timestamp\": start_time,\n",
    "    \"end_timestamp\": end_time,\n",
    "    \"count\": 10000\n",
    "}\n",
    "\n",
    "response = requests.get(url, params=params)\n",
    "data = response.json()\n",
    "\n",
    "print(f\"Status Code: {response.status_code}\")\n",
    "print(f\"Querying data from: {datetime.fromtimestamp(start_time/1000)} to {datetime.fromtimestamp(end_time/1000)}\")\n",
    "\n",
    "if 'result' in data and 'trades' in data['result']:\n",
    "    trades = data['result']['trades']\n",
    "    print(f\"Number of trades retrieved: {len(trades)}\")\n",
    "    \n",
    "    if len(trades) > 0:\n",
    "        df = pd.DataFrame(trades).sort_values('timestamp').reset_index(drop=True)\n",
    "        df['datetime'] = pd.to_datetime(df['timestamp'], unit='ms')\n",
    "        print(\"\\nHistorical trades from beginning of perpetual launch:\")\n",
    "        print(df[['datetime', 'price', 'amount', 'direction']][0:500:50])\n",
    "    else:\n",
    "        print(\"No trades found in this time range (BTC-PERPETUAL might not have existed yet)\")\n",
    "else:\n",
    "    print(json.dumps(data, indent=2))\n"
   ]
  }
 ],
 "metadata": {
  "kernelspec": {
   "display_name": "ml_env",
   "language": "python",
   "name": "python3"
  },
  "language_info": {
   "codemirror_mode": {
    "name": "ipython",
    "version": 3
   },
   "file_extension": ".py",
   "mimetype": "text/x-python",
   "name": "python",
   "nbconvert_exporter": "python",
   "pygments_lexer": "ipython3",
   "version": "3.13.7"
  }
 },
 "nbformat": 4,
 "nbformat_minor": 5
}

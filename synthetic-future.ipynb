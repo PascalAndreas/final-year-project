{
 "cells": [
  {
   "cell_type": "code",
   "execution_count": 1,
   "id": "562fbc5d",
   "metadata": {},
   "outputs": [
    {
     "ename": "NameError",
     "evalue": "name 'datetime' is not defined",
     "output_type": "error",
     "traceback": [
      "\u001b[31m---------------------------------------------------------------------------\u001b[39m",
      "\u001b[31mNameError\u001b[39m                                 Traceback (most recent call last)",
      "\u001b[36mCell\u001b[39m\u001b[36m \u001b[39m\u001b[32mIn[1]\u001b[39m\u001b[32m, line 8\u001b[39m\n\u001b[32m      1\u001b[39m \u001b[38;5;28;01mfrom\u001b[39;00m\u001b[38;5;250m \u001b[39m\u001b[34;01mutils\u001b[39;00m\u001b[38;5;250m \u001b[39m\u001b[38;5;28;01mimport\u001b[39;00m (\n\u001b[32m      2\u001b[39m     get_trades,\n\u001b[32m      3\u001b[39m     get_trades_by_instrument,\n\u001b[32m   (...)\u001b[39m\u001b[32m      6\u001b[39m     create_iv_surface_viewer\n\u001b[32m      7\u001b[39m )\n\u001b[32m----> \u001b[39m\u001b[32m8\u001b[39m start_time = \u001b[38;5;28mint\u001b[39m(\u001b[43mdatetime\u001b[49m(\u001b[32m2025\u001b[39m, \u001b[32m10\u001b[39m, \u001b[32m13\u001b[39m).timestamp() * \u001b[32m1000\u001b[39m)\n\u001b[32m      9\u001b[39m end_time = \u001b[38;5;28mint\u001b[39m(datetime(\u001b[32m2025\u001b[39m, \u001b[32m10\u001b[39m, \u001b[32m18\u001b[39m).timestamp() * \u001b[32m1000\u001b[39m)\n\u001b[32m     10\u001b[39m get_trades_by_instrument(\u001b[33m'\u001b[39m\u001b[33mSYN.BTC-16OCT25\u001b[39m\u001b[33m'\u001b[39m, start_time, end_time)\n",
      "\u001b[31mNameError\u001b[39m: name 'datetime' is not defined"
     ]
    }
   ],
   "source": [
    "from utils import (\n",
    "    get_trades,\n",
    "    get_trades_by_instrument,\n",
    "    parse_option_instrument,\n",
    "    prepare_iv_timeseries,\n",
    "    create_iv_surface_viewer\n",
    ")\n",
    "start_time = int(datetime(2025, 10, 13).timestamp() * 1000)\n",
    "end_time = int(datetime(2025, 10, 18).timestamp() * 1000)\n",
    "get_trades_by_instrument('SYN.BTC-16OCT25', start_time, end_time)"
   ]
  }
 ],
 "metadata": {
  "kernelspec": {
   "display_name": "ml_env",
   "language": "python",
   "name": "python3"
  },
  "language_info": {
   "codemirror_mode": {
    "name": "ipython",
    "version": 3
   },
   "file_extension": ".py",
   "mimetype": "text/x-python",
   "name": "python",
   "nbconvert_exporter": "python",
   "pygments_lexer": "ipython3",
   "version": "3.13.7"
  }
 },
 "nbformat": 4,
 "nbformat_minor": 5
}

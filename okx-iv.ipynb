{
 "cells": [
  {
   "cell_type": "markdown",
   "id": "4025652d",
   "metadata": {},
   "source": [
    "# Implied Volatility Surface Visualization\n",
    "\n",
    "This notebook demonstrates how to:\n",
    "1. Fetch orderbook data for options\n",
    "2. Prepare features (mid price, spread, etc.)\n",
    "3. Compute implied volatilities\n",
    "4. Create an interactive IV surface plot with time slider\n"
   ]
  },
  {
   "cell_type": "code",
   "execution_count": null,
   "id": "3e861bc2",
   "metadata": {},
   "outputs": [],
   "source": [
    "%load_ext autoreload\n",
    "%autoreload 2\n",
    "\n",
    "from utils import *\n",
    "from datetime import datetime, timedelta\n",
    "import pandas as pd\n",
    "import numpy as np\n"
   ]
  },
  {
   "cell_type": "markdown",
   "id": "e31b7283",
   "metadata": {},
   "source": [
    "## 1. Fetch Orderbook Data\n",
    "\n",
    "Fetch orderbook snapshots for BTC options. Module 6 = orderbook data.\n"
   ]
  },
  {
   "cell_type": "code",
   "execution_count": null,
   "id": "7e244a40",
   "metadata": {},
   "outputs": [],
   "source": [
    "# Define date range (e.g., 1 day of data)\n",
    "end_date = datetime(2024, 10, 20)\n",
    "start_date = end_date - timedelta(days=1)\n",
    "\n",
    "# Fetch orderbook data for BTC-USD options\n",
    "# Using depth=5 to keep only top 5 levels and reduce memory usage\n",
    "orderbook_df = fetch_market_data(\n",
    "    module=6,\n",
    "    inst_type='OPTION',\n",
    "    inst_family_list='BTC-USD',\n",
    "    start_date=start_date,\n",
    "    end_date=end_date,\n",
    "    date_aggr_type='daily',\n",
    "    depth=5,\n",
    "    verbose=True\n",
    ")\n",
    "\n",
    "print(f\"\\nFetched {len(orderbook_df):,} orderbook snapshots\")\n",
    "print(f\"Columns: {len(orderbook_df.columns)}\")\n",
    "orderbook_df.head()\n"
   ]
  },
  {
   "cell_type": "markdown",
   "id": "a2942381",
   "metadata": {},
   "source": [
    "## 2. Prepare Features\n",
    "\n",
    "Extract bid/ask/mid prices and calculate spreads. You'll need to provide a forward price for the underlying.\n"
   ]
  },
  {
   "cell_type": "code",
   "execution_count": null,
   "id": "cc980ab3",
   "metadata": {},
   "outputs": [],
   "source": [
    "# You can get the forward price from futures data or use spot price\n",
    "# For this example, we'll use a fixed price (replace with actual data)\n",
    "FORWARD_PRICE = 67000.0  # BTC forward price in USD\n",
    "\n",
    "# Prepare features for all orderbook snapshots\n",
    "features_df = prepare_orderbook_features(orderbook_df, FORWARD_PRICE)\n",
    "\n",
    "print(f\"Prepared {len(features_df):,} feature rows\")\n",
    "print(f\"\\nFeatures columns: {features_df.columns.tolist()}\")\n",
    "print(f\"\\nAverage spread: {features_df['spread'].mean():.2f}\")\n",
    "print(f\"Average spread %: {features_df['spread_pct'].mean():.2f}%\")\n",
    "features_df.head()\n"
   ]
  },
  {
   "cell_type": "markdown",
   "id": "35c4c7d8",
   "metadata": {},
   "source": [
    "## 3. Compute Implied Volatility Surface\n",
    "\n",
    "Calculate IV for each option using the Black-76 model.\n"
   ]
  },
  {
   "cell_type": "code",
   "execution_count": null,
   "id": "fec06d05",
   "metadata": {},
   "outputs": [],
   "source": [
    "# Compute IV surface (this may take a minute or two)\n",
    "iv_df = compute_iv_surface(features_df, risk_free_rate=0.0)\n",
    "\n",
    "print(f\"Computed {len(iv_df):,} IV points\")\n",
    "print(f\"Valid IVs: {iv_df['implied_vol'].notna().sum():,}\")\n",
    "print(f\"\\nIV Statistics:\")\n",
    "print(iv_df['implied_vol'].describe())\n",
    "\n",
    "# Show a sample\n",
    "iv_df.head(10)\n"
   ]
  },
  {
   "cell_type": "markdown",
   "id": "bb5e2aa6",
   "metadata": {},
   "source": [
    "## 4. Visualize IV Surface with Time Slider\n",
    "\n",
    "Create an interactive 3D plot where you can scroll through time.\n"
   ]
  },
  {
   "cell_type": "code",
   "execution_count": null,
   "id": "ffd5784d",
   "metadata": {},
   "outputs": [],
   "source": [
    "# Create interactive IV surface plot\n",
    "# time_step_minutes controls how often we take snapshots (5 min intervals)\n",
    "fig = create_iv_surface_plot(\n",
    "    iv_df,\n",
    "    time_step_minutes=5,\n",
    "    grid_resolution=40,\n",
    "    title=\"BTC Options IV Surface\"\n",
    ")\n",
    "\n",
    "fig.show()\n"
   ]
  },
  {
   "cell_type": "markdown",
   "id": "c4ecc621",
   "metadata": {},
   "source": [
    "## 5. Filter by Option Type\n",
    "\n",
    "You can also visualize calls and puts separately.\n"
   ]
  },
  {
   "cell_type": "code",
   "execution_count": null,
   "id": "61d6969f",
   "metadata": {},
   "outputs": [],
   "source": [
    "# Calls only\n",
    "calls_df = iv_df[iv_df['option_type'] == 'C']\n",
    "fig_calls = create_iv_surface_plot(\n",
    "    calls_df,\n",
    "    time_step_minutes=10,\n",
    "    title=\"BTC Call Options IV Surface\"\n",
    ")\n",
    "fig_calls.show()\n"
   ]
  },
  {
   "cell_type": "code",
   "execution_count": null,
   "id": "4afa9037",
   "metadata": {},
   "outputs": [],
   "source": [
    "# Puts only\n",
    "puts_df = iv_df[iv_df['option_type'] == 'P']\n",
    "fig_puts = create_iv_surface_plot(\n",
    "    puts_df,\n",
    "    time_step_minutes=10,\n",
    "    title=\"BTC Put Options IV Surface\"\n",
    ")\n",
    "fig_puts.show()\n"
   ]
  },
  {
   "cell_type": "markdown",
   "id": "12d74db5",
   "metadata": {},
   "source": [
    "## 6. Analyze Specific Time Slices\n",
    "\n",
    "Look at the IV surface at specific points in time.\n"
   ]
  },
  {
   "cell_type": "code",
   "execution_count": null,
   "id": "d27b4574",
   "metadata": {},
   "outputs": [],
   "source": [
    "# Convert timestamp to datetime for easier filtering\n",
    "if iv_df['timestamp'].dtype in ['int64', 'float64']:\n",
    "    iv_df['datetime'] = pd.to_datetime(iv_df['timestamp'], unit='ms')\n",
    "else:\n",
    "    iv_df['datetime'] = pd.to_datetime(iv_df['timestamp'])\n",
    "\n",
    "# Pick a specific time\n",
    "target_time = iv_df['datetime'].median()\n",
    "window_minutes = 5\n",
    "\n",
    "# Get data within window\n",
    "time_slice = iv_df[\n",
    "    (iv_df['datetime'] >= target_time - pd.Timedelta(minutes=window_minutes)) &\n",
    "    (iv_df['datetime'] <= target_time + pd.Timedelta(minutes=window_minutes))\n",
    "]\n",
    "\n",
    "print(f\"Time slice around {target_time}:\")\n",
    "print(f\"  Points: {len(time_slice)}\")\n",
    "print(f\"  Average IV: {time_slice['implied_vol'].mean():.2%}\")\n",
    "print(f\"  Tenor range: {time_slice['tenor_years'].min():.2f} - {time_slice['tenor_years'].max():.2f} years\")\n",
    "print(f\"  Strike range: ${time_slice['strike'].min():,.0f} - ${time_slice['strike'].max():,.0f}\")\n"
   ]
  }
 ],
 "metadata": {
  "language_info": {
   "name": "python"
  }
 },
 "nbformat": 4,
 "nbformat_minor": 5
}
